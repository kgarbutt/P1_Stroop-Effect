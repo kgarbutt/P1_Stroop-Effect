{
 "cells": [
  {
   "cell_type": "code",
   "execution_count": 2,
   "metadata": {
    "collapsed": false
   },
   "outputs": [],
   "source": [
    "# import all necessary packages and functions.\n",
    "from __future__ import division\n",
    "import math\n",
    "import csv\n",
    "from datetime import datetime\n",
    "import numpy as np\n",
    "import pandas as pd\n",
    "from IPython.display import display\n",
    "import matplotlib.pyplot as plt\n",
    "%matplotlib inline"
   ]
  },
  {
   "cell_type": "code",
   "execution_count": null,
   "metadata": {
    "collapsed": true
   },
   "outputs": [],
   "source": [
    "# Background:\n",
    "\n",
    "# In this experiement you say the color of the word (not what the word says), and your time is measured. There are two groups.\n",
    "# In the congruent group (denoted as C), the words being displayed are color words whose names match the colors that are printed.\n",
    "# In the incongruent group (denoted as I), the words displayed are color words whose names don't match the colors that are printed.\n",
    "\n",
    "# Reference: The Stroop Test from the Udacity website - I took the test."
   ]
  },
  {
   "cell_type": "code",
   "execution_count": 39,
   "metadata": {
    "collapsed": false
   },
   "outputs": [
    {
     "data": {
      "text/html": [
       "<div>\n",
       "<table border=\"1\" class=\"dataframe\">\n",
       "  <thead>\n",
       "    <tr style=\"text-align: right;\">\n",
       "      <th></th>\n",
       "      <th>Congruent</th>\n",
       "      <th>Incongruent</th>\n",
       "      <th>D=C-I</th>\n",
       "      <th>(D-Davg)^2</th>\n",
       "      <th>Variance</th>\n",
       "      <th>sd</th>\n",
       "      <th>xbarD</th>\n",
       "    </tr>\n",
       "  </thead>\n",
       "  <tbody>\n",
       "    <tr>\n",
       "      <th>0</th>\n",
       "      <td>12.079</td>\n",
       "      <td>19.278</td>\n",
       "      <td>-7.20</td>\n",
       "      <td>0.59</td>\n",
       "      <td>23.67</td>\n",
       "      <td>4.86</td>\n",
       "      <td>-7.96</td>\n",
       "    </tr>\n",
       "    <tr>\n",
       "      <th>1</th>\n",
       "      <td>16.791</td>\n",
       "      <td>18.741</td>\n",
       "      <td>-1.95</td>\n",
       "      <td>36.18</td>\n",
       "      <td>NaN</td>\n",
       "      <td>NaN</td>\n",
       "      <td>NaN</td>\n",
       "    </tr>\n",
       "    <tr>\n",
       "      <th>2</th>\n",
       "      <td>9.564</td>\n",
       "      <td>21.214</td>\n",
       "      <td>-11.65</td>\n",
       "      <td>13.58</td>\n",
       "      <td>NaN</td>\n",
       "      <td>NaN</td>\n",
       "      <td>NaN</td>\n",
       "    </tr>\n",
       "    <tr>\n",
       "      <th>3</th>\n",
       "      <td>8.630</td>\n",
       "      <td>15.687</td>\n",
       "      <td>-7.06</td>\n",
       "      <td>0.82</td>\n",
       "      <td>NaN</td>\n",
       "      <td>NaN</td>\n",
       "      <td>NaN</td>\n",
       "    </tr>\n",
       "    <tr>\n",
       "      <th>4</th>\n",
       "      <td>14.669</td>\n",
       "      <td>22.803</td>\n",
       "      <td>-8.13</td>\n",
       "      <td>0.03</td>\n",
       "      <td>NaN</td>\n",
       "      <td>NaN</td>\n",
       "      <td>NaN</td>\n",
       "    </tr>\n",
       "  </tbody>\n",
       "</table>\n",
       "</div>"
      ],
      "text/plain": [
       "   Congruent  Incongruent  D=C-I  (D-Davg)^2  Variance    sd  xbarD\n",
       "0     12.079       19.278  -7.20        0.59     23.67  4.86  -7.96\n",
       "1     16.791       18.741  -1.95       36.18       NaN   NaN    NaN\n",
       "2      9.564       21.214 -11.65       13.58       NaN   NaN    NaN\n",
       "3      8.630       15.687  -7.06        0.82       NaN   NaN    NaN\n",
       "4     14.669       22.803  -8.13        0.03       NaN   NaN    NaN"
      ]
     },
     "execution_count": 39,
     "metadata": {},
     "output_type": "execute_result"
    }
   ],
   "source": [
    "# Stroop_data read as data\n",
    "data = pd.read_csv('/home/kgarbutt/Dropbox/Udacity/Stroop/stroopdata_3.csv') # opens the .csv file\n",
    "# Print out only the first 5 rows of the data\n",
    "data.head()"
   ]
  },
  {
   "cell_type": "code",
   "execution_count": null,
   "metadata": {
    "collapsed": true
   },
   "outputs": [],
   "source": [
    "# 1\n",
    "# Independent Variable (X-axis)\n",
    "# The word color congruency condition\n",
    "\n",
    "# Dependent Variable (Y-axis)\n",
    "# The time it takes for each individual to name the ink color"
   ]
  },
  {
   "cell_type": "code",
   "execution_count": null,
   "metadata": {
    "collapsed": true
   },
   "outputs": [],
   "source": [
    "# 2\n",
    "# Null Hypothesis\n",
    "# Participants will not take any longer to name the ink colour.\n",
    "# Ho: pC = pI\n",
    "\n",
    "# Alternate Hypothesis\n",
    "# Participants will take longer to name the ink colour.\n",
    "# Ha: pC != pI (!= means not equal to)\n",
    "\n",
    "# I will perform a dependent two-tailed t-test. I chose a dependent test because I will be comparing the means of two related groups to determine whether there is a statistically significant difference between them. And a two-tailed test to test in both directions of the mean. "
   ]
  },
  {
   "cell_type": "code",
   "execution_count": 3,
   "metadata": {
    "collapsed": false
   },
   "outputs": [
    {
     "data": {
      "text/plain": [
       "24"
      ]
     },
     "execution_count": 3,
     "metadata": {},
     "output_type": "execute_result"
    }
   ],
   "source": [
    "# get length for degrees of freedom (df)\n",
    "len(data)"
   ]
  },
  {
   "cell_type": "code",
   "execution_count": null,
   "metadata": {
    "collapsed": true
   },
   "outputs": [],
   "source": [
    "# Place for all Statistical Data\n",
    "# C = congruent group\n",
    "# I = incongruent group\n",
    "# xbarD = -7.96\n",
    "# n = 24\n",
    "# sd = 4.86\n",
    "# degrees of freedom (df) = 23\n",
    "# SEM = 0.99\n",
    "# t-statistic = -8.04\n",
    "# t-critical = +/- 2.069\n",
    "# p = 0.05"
   ]
  },
  {
   "cell_type": "code",
   "execution_count": 40,
   "metadata": {
    "collapsed": false
   },
   "outputs": [
    {
     "data": {
      "text/plain": [
       "23"
      ]
     },
     "execution_count": 40,
     "metadata": {},
     "output_type": "execute_result"
    }
   ],
   "source": [
    "# degrees of freedom\n",
    "24 - 1"
   ]
  },
  {
   "cell_type": "code",
   "execution_count": 41,
   "metadata": {
    "collapsed": false,
    "scrolled": true
   },
   "outputs": [
    {
     "data": {
      "text/plain": [
       "0.99"
      ]
     },
     "execution_count": 41,
     "metadata": {},
     "output_type": "execute_result"
    }
   ],
   "source": [
    "# Standard Error (SEM)\n",
    "# sd/sqrt(n)\n",
    "round(4.86/(math.sqrt(24)), 2)"
   ]
  },
  {
   "cell_type": "code",
   "execution_count": 12,
   "metadata": {
    "collapsed": false
   },
   "outputs": [
    {
     "data": {
      "text/plain": [
       "-8.04"
      ]
     },
     "execution_count": 12,
     "metadata": {},
     "output_type": "execute_result"
    }
   ],
   "source": [
    "# t-statistic\n",
    "# xbarD/SEM\n",
    "round((-7.96)/0.99, 2)"
   ]
  },
  {
   "cell_type": "code",
   "execution_count": null,
   "metadata": {
    "collapsed": true
   },
   "outputs": [],
   "source": [
    "# t-critical, alpha = 0.05, two-tailed\n",
    "# Reference: http://www.graphpad.com/quickcalcs/statratio1/\n",
    "# Probability = 0.05 df=23\n",
    "# t = +/- 2.069"
   ]
  },
  {
   "cell_type": "code",
   "execution_count": 22,
   "metadata": {
    "collapsed": false
   },
   "outputs": [
    {
     "data": {
      "text/plain": [
       "<matplotlib.axes._subplots.AxesSubplot at 0x7f72c7b38450>"
      ]
     },
     "execution_count": 22,
     "metadata": {},
     "output_type": "execute_result"
    },
    {
     "data": {
      "image/png": "[encoded data removed]",
      "text/plain": [
       "<matplotlib.figure.Figure at 0x7f72c7c60850>"
      ]
     },
     "metadata": {},
     "output_type": "display_data"
    }
   ],
   "source": [
    "# 4\n",
    "graph_data = pd.read_csv('/home/kgarbutt/Dropbox/Udacity/Stroop/stroopdata.csv') # opens the .csv file\n",
    "graph_data.boxplot()"
   ]
  },
  {
   "cell_type": "code",
   "execution_count": null,
   "metadata": {
    "collapsed": true
   },
   "outputs": [],
   "source": [
    "3# 4\n",
    "# The graph displays the full range of the variation along with the median value. It also points out that the Incongruent group has a couple of outliers."
   ]
  },
  {
   "cell_type": "code",
   "execution_count": null,
   "metadata": {
    "collapsed": true
   },
   "outputs": [],
   "source": [
    "# 5\n",
    "\n",
    "# Our t-statistic value falls within the t-critical value, therefore we Reject the Null Hypothesis\n",
    "\n",
    "# Decision: Reject the Null Hypothesis\n",
    "\n",
    "# I would have to say that the incongruent group is harder because your brain has to process the real color of the word.\n",
    "\n",
    "# The results matched up with my expectations. When I took the test, it took me longer to answer the incongruent group, and I made more mistakes."
   ]
  },
  {
   "cell_type": "code",
   "execution_count": null,
   "metadata": {
    "collapsed": true
   },
   "outputs": [],
   "source": [
    "# 6 3(Optional)\n",
    "# The color of the word interfered with the saying of the real color of the word. Each one had to be processed which took more time. I think a similar task would be to remember the names of two groups or people. The first group would interfere with the processing of the second group which would take longer, and produce more mistakes. "
   ]
  }
 ],
 "metadata": {
  "kernelspec": {
   "display_name": "Python 2",
   "language": "python",
   "name": "python2"
  },
  "language_info": {
   "codemirror_mode": {
    "name": "ipython",
    "version": 2
   },
   "file_extension": ".py",
   "mimetype": "text/x-python",
   "name": "python",
   "nbconvert_exporter": "python",
   "pygments_lexer": "ipython2",
   "version": "2.7.13"
  }
 },
 "nbformat": 4,
 "nbformat_minor": 2
}
